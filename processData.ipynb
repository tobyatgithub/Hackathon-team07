{
 "cells": [
  {
   "cell_type": "code",
   "execution_count": 1,
   "id": "69c6dc19",
   "metadata": {},
   "outputs": [],
   "source": [
    "import pandas as pd\n",
    "import os\n",
    "\n"
   ]
  },
  {
   "cell_type": "code",
   "execution_count": 2,
   "id": "f42b23b4",
   "metadata": {},
   "outputs": [
    {
     "name": "stdout",
     "output_type": "stream",
     "text": [
      "/Users/toby/Documents/Hackathon-team07/distance.csv\n"
     ]
    }
   ],
   "source": [
    "dataFilePath = os.path.join(os.getcwd(), \"distance.csv\")\n",
    "print(dataFilePath)\n"
   ]
  },
  {
   "cell_type": "code",
   "execution_count": 6,
   "id": "83e24ee7",
   "metadata": {},
   "outputs": [
    {
     "data": {
      "text/html": [
       "<div>\n",
       "<style scoped>\n",
       "    .dataframe tbody tr th:only-of-type {\n",
       "        vertical-align: middle;\n",
       "    }\n",
       "\n",
       "    .dataframe tbody tr th {\n",
       "        vertical-align: top;\n",
       "    }\n",
       "\n",
       "    .dataframe thead th {\n",
       "        text-align: right;\n",
       "    }\n",
       "</style>\n",
       "<table border=\"1\" class=\"dataframe\">\n",
       "  <thead>\n",
       "    <tr style=\"text-align: right;\">\n",
       "      <th></th>\n",
       "      <th>farm_zip_code</th>\n",
       "      <th>census</th>\n",
       "      <th>meter_distance</th>\n",
       "      <th>km_distance</th>\n",
       "    </tr>\n",
       "  </thead>\n",
       "  <tbody>\n",
       "    <tr>\n",
       "      <th>0</th>\n",
       "      <td>V7C1A8</td>\n",
       "      <td>Richmond</td>\n",
       "      <td>4815435</td>\n",
       "      <td>4815</td>\n",
       "    </tr>\n",
       "    <tr>\n",
       "      <th>1</th>\n",
       "      <td>V7C1A8</td>\n",
       "      <td>Vancouver</td>\n",
       "      <td>16092</td>\n",
       "      <td>16</td>\n",
       "    </tr>\n",
       "    <tr>\n",
       "      <th>2</th>\n",
       "      <td>V7C1A8</td>\n",
       "      <td>Surrey BC</td>\n",
       "      <td>33321</td>\n",
       "      <td>33</td>\n",
       "    </tr>\n",
       "    <tr>\n",
       "      <th>3</th>\n",
       "      <td>V7C1A8</td>\n",
       "      <td>Coquitlam</td>\n",
       "      <td>39768</td>\n",
       "      <td>40</td>\n",
       "    </tr>\n",
       "    <tr>\n",
       "      <th>4</th>\n",
       "      <td>V7C1A8</td>\n",
       "      <td>Burnaby</td>\n",
       "      <td>22900</td>\n",
       "      <td>23</td>\n",
       "    </tr>\n",
       "  </tbody>\n",
       "</table>\n",
       "</div>"
      ],
      "text/plain": [
       "  farm_zip_code     census  meter_distance  km_distance\n",
       "0        V7C1A8   Richmond         4815435         4815\n",
       "1        V7C1A8  Vancouver           16092           16\n",
       "2        V7C1A8  Surrey BC           33321           33\n",
       "3        V7C1A8  Coquitlam           39768           40\n",
       "4        V7C1A8    Burnaby           22900           23"
      ]
     },
     "execution_count": 6,
     "metadata": {},
     "output_type": "execute_result"
    }
   ],
   "source": [
    "distance_df = pd.read_csv(dataFilePath, header=None)\n",
    "distance_df.columns = [\"farm_zip_code\", \"census\", \"meter_distance\", \"km_distance\"]\n",
    "distance_df.head()"
   ]
  },
  {
   "cell_type": "code",
   "execution_count": 17,
   "id": "610570bf",
   "metadata": {},
   "outputs": [
    {
     "name": "stdout",
     "output_type": "stream",
     "text": [
      "{'V7C1A8': 0, 'V0X1L0': 1, 'V1Y4X8': 2, 'V3M1J2': 3, 'V4B4M2': 4, 'V2R1A5': 5, 'V3A1C3': 6, 'V3C2Z8': 7, 'L5R3L1': 8, 'V7L1C4': 9}\n",
      "{0: 'V7C1A8', 1: 'V0X1L0', 2: 'V1Y4X8', 3: 'V3M1J2', 4: 'V4B4M2', 5: 'V2R1A5', 6: 'V3A1C3', 7: 'V3C2Z8', 8: 'L5R3L1', 9: 'V7L1C4'}\n",
      "{'Richmond': 0, 'Vancouver': 1, 'Surrey BC': 2, 'Coquitlam': 3, 'Burnaby': 4, 'Abbotsford': 5, 'North Vancouver': 6, 'Langley': 7, 'Delta': 8, 'Chilliwack': 9}\n",
      "{0: 'Richmond', 1: 'Vancouver', 2: 'Surrey BC', 3: 'Coquitlam', 4: 'Burnaby', 5: 'Abbotsford', 6: 'North Vancouver', 7: 'Langley', 8: 'Delta', 9: 'Chilliwack'}\n"
     ]
    }
   ],
   "source": [
    "# creating farm mappings\n",
    "farmList = distance_df['farm_zip_code'].unique()\n",
    "farmToIndexMapping = {farmList[i]: i for i in range(len(farmList))}\n",
    "indexToFarmMapping = {i: farmList[i] for i in range(len(farmList))}\n",
    "print(farmToIndexMapping)\n",
    "print(indexToFarmMapping)\n",
    "\n",
    "# creting census mappings\n",
    "censusList = distance_df['census'].unique()\n",
    "censusToIndexMapping = {censusList[j]: j for j in range(len(censusList))}\n",
    "indexToCensusMapping = {j: censusList[j] for j in range(len(censusList))}\n",
    "print(censusToIndexMapping)\n",
    "print(indexToCensusMapping)"
   ]
  },
  {
   "cell_type": "code",
   "execution_count": 22,
   "id": "0f986c65",
   "metadata": {},
   "outputs": [
    {
     "name": "stdout",
     "output_type": "stream",
     "text": [
      "100 {(0, 0): 4815, (0, 1): 4711, (1, 0): 4711, (0, 2): 4527, (2, 0): 4527, (0, 3): 4807, (3, 0): 4807, (0, 4): 4777, (4, 0): 4777, (0, 5): 4804, (5, 0): 4804, (0, 6): 4785, (6, 0): 4785, (0, 7): 4807, (7, 0): 4807, (0, 8): 917, (8, 0): 917, (0, 9): 4826, (9, 0): 4826, (1, 1): 170, (1, 2): 391, (2, 1): 391, (1, 3): 21, (3, 1): 21, (1, 4): 51, (4, 1): 51, (1, 5): 99, (5, 1): 99, (1, 6): 52, (6, 1): 52, (1, 7): 31, (7, 1): 31, (1, 8): 4334, (8, 1): 4334, (1, 9): 11, (9, 1): 11, (2, 2): 366, (2, 3): 7, (3, 2): 7, (2, 4): 26, (4, 2): 26, (2, 5): 74, (5, 2): 74, (2, 6): 24, (6, 2): 24, (2, 7): 15, (7, 2): 15, (2, 8): 4309, (8, 2): 4309, (2, 9): 34, (9, 2): 34, (3, 3): 15, (3, 4): 39, (4, 3): 39, (3, 5): 81, (5, 3): 81, (3, 6): 34, (6, 3): 34, (3, 7): 6, (7, 3): 6, (3, 8): 4323, (8, 3): 4323, (3, 9): 32, (9, 3): 32, (4, 4): 39, (4, 5): 87, (5, 4): 87, (4, 6): 39, (6, 4): 39, (4, 7): 19, (7, 4): 19, (4, 8): 4322, (8, 4): 4322, (4, 9): 14, (9, 4): 14, (5, 5): 31, (5, 6): 37, (6, 5): 37, (5, 7): 52, (7, 5): 52, (5, 8): 4292, (8, 5): 4292, (5, 9): 72, (9, 5): 72, (6, 6): 53, (6, 7): 32, (7, 6): 32, (6, 8): 4336, (8, 6): 4336, (6, 9): 1, (9, 6): 1, (7, 7): 4634, (7, 8): 744, (8, 7): 744, (7, 9): 4654, (9, 7): 4654, (8, 8): 1888, (8, 9): 3143, (9, 8): 3143, (9, 9): 102}\n"
     ]
    }
   ],
   "source": [
    "distData = {}\n",
    "# count = 0\n",
    "for index, row in distance_df.iterrows():\n",
    "    farm_zip_code = row[\"farm_zip_code\"]\n",
    "    census_name = row[\"census\"]\n",
    "    km_distance = row[\"km_distance\"]\n",
    "    \n",
    "    farmIndex = farmToIndexMapping[farm_zip_code]\n",
    "    censusIndex = censusToIndexMapping[census_name]\n",
    "    \n",
    "    distData[(farmIndex, censusIndex)] = km_distance\n",
    "    distData[(censusIndex, farmIndex)] = km_distance\n",
    "#     count += 1\n",
    "#     if count >= 5:\n",
    "#         break\n",
    "\n",
    "print(len(distData), distData)"
   ]
  },
  {
   "cell_type": "code",
   "execution_count": null,
   "id": "03a03ff7",
   "metadata": {},
   "outputs": [],
   "source": []
  },
  {
   "cell_type": "code",
   "execution_count": 45,
   "id": "817deeb5",
   "metadata": {},
   "outputs": [
    {
     "name": "stdout",
     "output_type": "stream",
     "text": [
      "10\n"
     ]
    }
   ],
   "source": [
    "# populationFilePath = os.path.join(os.getcwd(), \"Food Hub Target Population.csv\")\n",
    "# populating_df = pd.read_csv(populationFilePath, header=None, sep=\",\")\n",
    "# populating_df = populating_df[[0, 1]]\n",
    "# populating_df.columns = [\"census_name\", \"population\"]\n",
    "# # populating_df.dropna()\n",
    "\n",
    "# populating_df = populating_df[:10]\n",
    "# print(len(populating_df))\n",
    "# populating_df.head()\n",
    "\n",
    "# populating_df.to_csv(\"Food Hub Target Population New.csv\")"
   ]
  },
  {
   "cell_type": "code",
   "execution_count": 50,
   "id": "dd351240",
   "metadata": {},
   "outputs": [
    {
     "data": {
      "text/html": [
       "<div>\n",
       "<style scoped>\n",
       "    .dataframe tbody tr th:only-of-type {\n",
       "        vertical-align: middle;\n",
       "    }\n",
       "\n",
       "    .dataframe tbody tr th {\n",
       "        vertical-align: top;\n",
       "    }\n",
       "\n",
       "    .dataframe thead th {\n",
       "        text-align: right;\n",
       "    }\n",
       "</style>\n",
       "<table border=\"1\" class=\"dataframe\">\n",
       "  <thead>\n",
       "    <tr style=\"text-align: right;\">\n",
       "      <th></th>\n",
       "      <th>census_name</th>\n",
       "      <th>population</th>\n",
       "    </tr>\n",
       "  </thead>\n",
       "  <tbody>\n",
       "    <tr>\n",
       "      <th>0</th>\n",
       "      <td>Vancouver</td>\n",
       "      <td>39556.0</td>\n",
       "    </tr>\n",
       "    <tr>\n",
       "      <th>1</th>\n",
       "      <td>Surrey BC</td>\n",
       "      <td>12806.0</td>\n",
       "    </tr>\n",
       "    <tr>\n",
       "      <th>2</th>\n",
       "      <td>Coquitlam</td>\n",
       "      <td>4819.0</td>\n",
       "    </tr>\n",
       "    <tr>\n",
       "      <th>3</th>\n",
       "      <td>Burnaby</td>\n",
       "      <td>25574.0</td>\n",
       "    </tr>\n",
       "    <tr>\n",
       "      <th>4</th>\n",
       "      <td>Abbotsford</td>\n",
       "      <td>10721.0</td>\n",
       "    </tr>\n",
       "  </tbody>\n",
       "</table>\n",
       "</div>"
      ],
      "text/plain": [
       "  census_name  population\n",
       "0   Vancouver     39556.0\n",
       "1   Surrey BC     12806.0\n",
       "2   Coquitlam      4819.0\n",
       "3     Burnaby     25574.0\n",
       "4  Abbotsford     10721.0"
      ]
     },
     "execution_count": 50,
     "metadata": {},
     "output_type": "execute_result"
    }
   ],
   "source": [
    "populationFilePath = os.path.join(os.getcwd(), \"Food Hub Target Population New.csv\")\n",
    "populating_df = pd.read_csv(populationFilePath, index_col=None)\n",
    "populating_df = populating_df[[\"census_name\", \"population\"]]\n",
    "populating_df.head()"
   ]
  },
  {
   "cell_type": "code",
   "execution_count": 53,
   "id": "b669cef6",
   "metadata": {},
   "outputs": [
    {
     "name": "stdout",
     "output_type": "stream",
     "text": [
      "census_name = Vancouver, population = 39556.0\n",
      "census_name = Surrey BC, population = 12806.0\n",
      "census_name = Coquitlam, population = 4819.0\n",
      "census_name = Burnaby, population = 25574.0\n",
      "census_name = Abbotsford, population = 10721.0\n",
      "census_name = North Vancouver, population = 19087.0\n",
      "census_name = Langley, population = 1401.0\n",
      "census_name = Delta, population = 1712.0\n",
      "census_name = Chilliwack, population = 2838.0\n",
      "census_name = Richmond, population = 8942.0\n",
      "{1: 39556, 2: 12806, 3: 4819, 4: 25574, 5: 10721, 6: 19087, 7: 1401, 8: 1712, 9: 2838, 0: 8942}\n"
     ]
    }
   ],
   "source": [
    "populationData = {}\n",
    "\n",
    "for index, row in populating_df.iterrows():\n",
    "    census_name = row[\"census_name\"]\n",
    "    population = row['population']\n",
    "    \n",
    "    print(f\"census_name = {census_name}, population = {population}\")\n",
    "    censusIndex = censusToIndexMapping[census_name]\n",
    "    populationData[censusIndex] = int(population)\n",
    "    \n",
    "print(populationData)"
   ]
  },
  {
   "cell_type": "code",
   "execution_count": 55,
   "id": "422a2e74",
   "metadata": {},
   "outputs": [],
   "source": [
    "# censusToIndexMapping"
   ]
  },
  {
   "cell_type": "code",
   "execution_count": null,
   "id": "de980d3a",
   "metadata": {},
   "outputs": [],
   "source": []
  }
 ],
 "metadata": {
  "kernelspec": {
   "display_name": "Python 3",
   "language": "python",
   "name": "python3"
  },
  "language_info": {
   "codemirror_mode": {
    "name": "ipython",
    "version": 3
   },
   "file_extension": ".py",
   "mimetype": "text/x-python",
   "name": "python",
   "nbconvert_exporter": "python",
   "pygments_lexer": "ipython3",
   "version": "3.6.13"
  }
 },
 "nbformat": 4,
 "nbformat_minor": 5
}
